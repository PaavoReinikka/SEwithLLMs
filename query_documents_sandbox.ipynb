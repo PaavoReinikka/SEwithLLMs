{
 "cells": [
  {
   "cell_type": "code",
   "execution_count": 1,
   "id": "6a893c67",
   "metadata": {},
   "outputs": [],
   "source": [
    "#from langchain_community.llms import Ollama\n",
    "from langchain_ollama import OllamaLLM as Ollama, OllamaEmbeddings\n",
    "from langchain_community.document_loaders import PyPDFLoader, TextLoader\n",
    "from langchain.prompts import PromptTemplate\n",
    "from langchain_community.vectorstores import DocArrayInMemorySearch\n",
    "from langchain_community.embeddings import OllamaEmbeddings\n",
    "from langchain_core.output_parsers import StrOutputParser\n",
    "from langchain_core.runnables import RunnablePassthrough\n",
    "\n",
    "# for text splitting\n",
    "from langchain_experimental.text_splitter import SemanticChunker\n",
    "# import CharacterTextSplitter\n",
    "from langchain_text_splitters import CharacterTextSplitter\n",
    "# for embeddings\n",
    "from langchain_huggingface import HuggingFaceEmbeddings\n",
    "import torch"
   ]
  },
  {
   "cell_type": "code",
   "execution_count": 70,
   "id": "f631e157",
   "metadata": {},
   "outputs": [],
   "source": [
    "# ignore warnings\n",
    "import warnings\n",
    "warnings.filterwarnings(\"ignore\")"
   ]
  },
  {
   "cell_type": "code",
   "execution_count": 2,
   "id": "1b536be7",
   "metadata": {},
   "outputs": [
    {
     "name": "stdout",
     "output_type": "stream",
     "text": [
      "Using device: cpu\n"
     ]
    },
    {
     "name": "stderr",
     "output_type": "stream",
     "text": [
      "/home/paavo/projects/SEwithLLMs/.venv/lib/python3.13/site-packages/torch/cuda/__init__.py:174: UserWarning: CUDA initialization: CUDA unknown error - this may be due to an incorrectly set up environment, e.g. changing env variable CUDA_VISIBLE_DEVICES after program start. Setting the available devices to be zero. (Triggered internally at /pytorch/c10/cuda/CUDAFunctions.cpp:109.)\n",
      "  return torch._C._cuda_getDeviceCount() > 0\n"
     ]
    }
   ],
   "source": [
    "# check if GPU is available\n",
    "if torch.cuda.is_available():\n",
    "    device = \"cuda\"\n",
    "else:\n",
    "    device = \"cpu\"\n",
    "print(f\"Using device: {device}\")"
   ]
  },
  {
   "cell_type": "markdown",
   "id": "8a6c1e4c",
   "metadata": {},
   "source": [
    "### Setting up the embeddings\n",
    "\n",
    "For augmenting our query with context information effectively, we can \n",
    "1. embed the source material in a semantically meaningful vector space -- i.e., represent blocks of text with numerical vectors.\n",
    "2. then do the same for the query.\n",
    "3. compare the query's vector representation agains all the vectors of the source material.\n",
    "4. return the block of text that corresponds to most similar vector.\n",
    "\n",
    "A practical issue with embedding using Ollama is that we need a different model for the embedding and the llm. If we use our local Ollama server for both, it has to load the 2 different models alternately. If both models are sufficiently small (compared to system memory), one way to deal with this is by running the embedding model in a separate container. Or we can use a Huggingface model for embedding and ollama for llm. There are still issues with running multiple models in parallel locally. \n",
    "\n",
    "Ideally we could use a remote endpoint for the llm and run the embedding locally -- embedding large text corpora over http connection is not a good idea. However, this would mean we'd have to purchase compute from some api service. "
   ]
  },
  {
   "cell_type": "code",
   "execution_count": 44,
   "id": "d3816e0a",
   "metadata": {},
   "outputs": [],
   "source": [
    "# 1. Create the embeddings (OPTION 1, simplest)\n",
    "embedding_model=\"all-minilm\"#\"mxbai-embed-small\"\n",
    "embeddings = OllamaEmbeddings(model=embedding_model)"
   ]
  },
  {
   "cell_type": "code",
   "execution_count": null,
   "id": "4a6524a5",
   "metadata": {},
   "outputs": [],
   "source": [
    "# 2. Create the embeddings (OPTION 2, in a container)\n",
    "# assuming we have a local Ollama container running on port 11435 (see launch_ollama.sh)\n",
    "embedding_model=\"all-minilm\"#\"mxbai-embed-small\"\n",
    "embeddings = OllamaEmbeddings(base_url=\"http://localhost:11435\",\n",
    "                              model=embedding_model)"
   ]
  },
  {
   "cell_type": "code",
   "execution_count": 32,
   "id": "d8af917f",
   "metadata": {},
   "outputs": [],
   "source": [
    "# 3. Create the embeddings (OPTION 3, locally using HuggingFace)\n",
    "embedding_model =\"thenlper/gte-small\"# \"sentence-transformers/all-mpnet-base-v2\"\n",
    "model_kwargs = {'device': device}\n",
    "encode_kwargs = {'normalize_embeddings': False}\n",
    "embeddings = HuggingFaceEmbeddings(\n",
    "    model_name=embedding_model,\n",
    "    model_kwargs=model_kwargs,\n",
    "    encode_kwargs=encode_kwargs,\n",
    ")"
   ]
  },
  {
   "cell_type": "code",
   "execution_count": 5,
   "id": "61e5bddb",
   "metadata": {},
   "outputs": [],
   "source": [
    "# 2. Create the llm (assumes we have Ollama running in a container on default port 11434)\n",
    "llm = Ollama(model='llama3.2')"
   ]
  },
  {
   "cell_type": "code",
   "execution_count": 42,
   "id": "1e8f7d25",
   "metadata": {},
   "outputs": [
    {
     "data": {
      "text/plain": [
       "{'base_url': 'http://localhost:11434',\n",
       " 'model': 'mxbai-embed-small',\n",
       " 'embed_instruction': 'passage: ',\n",
       " 'query_instruction': 'query: ',\n",
       " 'mirostat': None,\n",
       " 'mirostat_eta': None,\n",
       " 'mirostat_tau': None,\n",
       " 'num_ctx': None,\n",
       " 'num_gpu': None,\n",
       " 'num_thread': None,\n",
       " 'repeat_last_n': None,\n",
       " 'repeat_penalty': None,\n",
       " 'temperature': None,\n",
       " 'stop': None,\n",
       " 'tfs_z': None,\n",
       " 'top_k': None,\n",
       " 'top_p': None,\n",
       " 'show_progress': False,\n",
       " 'headers': None,\n",
       " 'model_kwargs': None}"
      ]
     },
     "execution_count": 42,
     "metadata": {},
     "output_type": "execute_result"
    }
   ],
   "source": [
    "embeddings.__dict__"
   ]
  },
  {
   "cell_type": "code",
   "execution_count": 45,
   "id": "f9c2a496",
   "metadata": {},
   "outputs": [
    {
     "data": {
      "text/plain": [
       "384"
      ]
     },
     "execution_count": 45,
     "metadata": {},
     "output_type": "execute_result"
    }
   ],
   "source": [
    "len(embeddings.embed_query(\"What is the capital of France?\"))"
   ]
  },
  {
   "cell_type": "markdown",
   "id": "e0762e4d",
   "metadata": {},
   "source": [
    "### Reading the document and loading it into a vector store\n",
    "\n",
    "* loader loads the document, then splits it into chunks. I am using defaults here, but we could also get more control over the text splitting.\n",
    "* We make a vector store from the documents, and index it for fast similarity search based on embedding vectors.\n",
    "* finally we make a langchain `retriever` that can be directly invoked with queries -- it returns the most similar text block."
   ]
  },
  {
   "cell_type": "code",
   "execution_count": 6,
   "id": "d2821813",
   "metadata": {},
   "outputs": [],
   "source": [
    "# 2. Load the context information and create a retriever\n",
    "path = \"./documents/\"\n",
    "#loader = TextLoader(path + \"sample.txt\")\n",
    "loader = PyPDFLoader(path + \"benjamini_yekutieli_fdr.pdf\")"
   ]
  },
  {
   "cell_type": "code",
   "execution_count": 7,
   "id": "07611b40",
   "metadata": {},
   "outputs": [],
   "source": [
    "res=loader.load_and_split()"
   ]
  },
  {
   "cell_type": "code",
   "execution_count": null,
   "id": "c944d2cb",
   "metadata": {},
   "outputs": [
    {
     "data": {
      "text/plain": [
       "{'id': None,\n",
       " 'metadata': {'producer': 'Acrobat Distiller 4.05 for Windows',\n",
       "  'creator': 'DVIPSONE (32) 2.1.3 http://www.YandY.com',\n",
       "  'creationdate': 'D:20011203123023',\n",
       "  'title': 'FRANJIMSAOS\\x029-4AOS260',\n",
       "  'author': 'Dr. Mirko Janc (Tech Typeset) 427 1999 Feb 15 15:33:29',\n",
       "  'subject': 'TeX output 2001.11.15:0819',\n",
       "  'source': './documents/benjamini_yekutieli_fdr.pdf',\n",
       "  'total_pages': 24,\n",
       "  'page': 0,\n",
       "  'page_label': '1'},\n",
       " 'page_content': 'TheAnnalsofStatistics\\n2001, Vol. 29, No. 4, 1165–1188\\nTHE CONTROL OF THE FALSE DISCOVERY RATE IN\\nMULTIPLE TESTING UNDER DEPENDENCY\\nBy Yoav Benjamini1 and Daniel Yekutieli2\\nTelAvivUniversity\\nBenjamini and Hochberg suggest that the false discovery rate may be\\nthe appropriate error rate to control in many applied multiple testing prob-\\nlems. A simple procedure was given there as an FDR controlling procedure\\nfor independent test statistics and was shown to be much more powerful\\nthan comparable procedures which control the traditional familywise error\\nrate. We prove that this same procedure also controls the false discovery\\nrate when the test statistics have positive regression dependency on each of\\nthe test statistics corresponding to the true null hypotheses. This condition\\nfor positive dependency is general enough to cover many problems of prac-\\ntical interest, including the comparisons of many treatments with a single\\ncontrol, multivariate normal test statistics with positive correlation matrix\\nand multivariatet. Furthermore, the test statistics may be discrete, and\\nthe tested hypotheses composite without posing special difﬁculties. For all\\nother forms of dependency, a simple conservative modiﬁcation of the proce-\\ndure controls the false discovery rate. Thus the range of problems for which\\na procedure with proven FDR control can be offered is greatly increased.\\n1. Introduction.\\n1.1. Simultaneous hypotheses testing.The control of the increased type I\\nerror when testing simultaneously a family of hypotheses is a central issue in\\nthe area of multiple comparisons. Rarely are we interested only in whether\\nall hypotheses are jointly true or not, which is the test of the intersection null\\nhypothesis. In most applications, we infer about the individual hypotheses,\\nrealizing that some of the tested hypotheses are usually true—we hope not\\nall—and some are not. We wish to decide which ones are not true, indicating\\n(statistical) discoveries. An important such problem is that of multiple end-\\npoints in a clinical trial: a new treatment is compared with an existing one in\\nterms of a large number of potential beneﬁts (endpoints).\\nExample 1.1(Multiple endpoints in clinical trials). As a typical example,\\nconsider the double-blind controlled trial of oral clodronate in patients with\\nbone metastases from breast cancer, reported in Paterson, Powles, Kanis,\\nMcCloskey, Hanson and Ashley (1993). Eighteen endpoints were compared\\nReceived February 1998; revised April 2001.\\n1Supported by FIRST foundation of the Israeli Academy of Sciences and Humanities.\\n2This article is a part of the author’s Ph.D. dissertation at Tel Aviv University, under the\\nguidance of Yoav Benjamini.\\nAMS2000 subjectclassiﬁcations. 62J15, 62G30, 47N30.\\nKey words and phrases. Multiple comparisons procedures, FDR, Simes’ equality, Hochberg’s\\nprocedure, MTP2 densities, positive regression dependency, unidimensional latent variables, dis-\\ncrete test statistics, multiple endpoints many-to-one comparisons, comparisons with control.\\n1165',\n",
       " 'type': 'Document'}"
      ]
     },
     "execution_count": 10,
     "metadata": {},
     "output_type": "execute_result"
    }
   ],
   "source": [
    "dict(res[0])"
   ]
  },
  {
   "cell_type": "code",
   "execution_count": 15,
   "id": "ebad060c",
   "metadata": {},
   "outputs": [
    {
     "data": {
      "text/plain": [
       "['TheAnnalsofStatistics',\n",
       " '2001, Vol. 29, No. 4, 1165–1188',\n",
       " 'THE CONTROL OF THE FALSE DISCOVERY RATE IN',\n",
       " 'MULTIPLE TESTING UNDER DEPENDENCY',\n",
       " 'By Yoav Benjamini1 and Daniel Yekutieli2',\n",
       " 'TelAvivUniversity',\n",
       " 'Benjamini and Hochberg suggest that the false discovery rate may be',\n",
       " 'the appropriate error rate to control in many applied multiple testing prob-',\n",
       " 'lems. A simple procedure was given there as an FDR controlling procedure',\n",
       " 'for independent test statistics and was shown to be much more powerful',\n",
       " 'than comparable procedures which control the traditional familywise error',\n",
       " 'rate. We prove that this same procedure also controls the false discovery',\n",
       " 'rate when the test statistics have positive regression dependency on each of',\n",
       " 'the test statistics corresponding to the true null hypotheses. This condition',\n",
       " 'for positive dependency is general enough to cover many problems of prac-',\n",
       " 'tical interest, including the comparisons of many treatments with a single',\n",
       " 'control, multivariate normal test statistics with positive correlation matrix',\n",
       " 'and multivariatet. Furthermore, the test statistics may be discrete, and',\n",
       " 'the tested hypotheses composite without posing special difﬁculties. For all',\n",
       " 'other forms of dependency, a simple conservative modiﬁcation of the proce-',\n",
       " 'dure controls the false discovery rate. Thus the range of problems for which',\n",
       " 'a procedure with proven FDR control can be offered is greatly increased.',\n",
       " '1. Introduction.',\n",
       " '1.1. Simultaneous hypotheses testing.The control of the increased type I',\n",
       " 'error when testing simultaneously a family of hypotheses is a central issue in',\n",
       " 'the area of multiple comparisons. Rarely are we interested only in whether',\n",
       " 'all hypotheses are jointly true or not, which is the test of the intersection null',\n",
       " 'hypothesis. In most applications, we infer about the individual hypotheses,',\n",
       " 'realizing that some of the tested hypotheses are usually true—we hope not',\n",
       " 'all—and some are not. We wish to decide which ones are not true, indicating',\n",
       " '(statistical) discoveries. An important such problem is that of multiple end-',\n",
       " 'points in a clinical trial: a new treatment is compared with an existing one in',\n",
       " 'terms of a large number of potential beneﬁts (endpoints).',\n",
       " 'Example 1.1(Multiple endpoints in clinical trials). As a typical example,',\n",
       " 'consider the double-blind controlled trial of oral clodronate in patients with',\n",
       " 'bone metastases from breast cancer, reported in Paterson, Powles, Kanis,',\n",
       " 'McCloskey, Hanson and Ashley (1993). Eighteen endpoints were compared',\n",
       " 'Received February 1998; revised April 2001.',\n",
       " '1Supported by FIRST foundation of the Israeli Academy of Sciences and Humanities.',\n",
       " '2This article is a part of the author’s Ph.D. dissertation at Tel Aviv University, under the',\n",
       " 'guidance of Yoav Benjamini.',\n",
       " 'AMS2000 subjectclassiﬁcations. 62J15, 62G30, 47N30.',\n",
       " 'Key words and phrases. Multiple comparisons procedures, FDR, Simes’ equality, Hochberg’s',\n",
       " 'procedure, MTP2 densities, positive regression dependency, unidimensional latent variables, dis-',\n",
       " 'crete test statistics, multiple endpoints many-to-one comparisons, comparisons with control.',\n",
       " '1165']"
      ]
     },
     "execution_count": 15,
     "metadata": {},
     "output_type": "execute_result"
    }
   ],
   "source": [
    "res[0].page_content.split(\"\\n\")"
   ]
  },
  {
   "cell_type": "code",
   "execution_count": 75,
   "id": "177cb408",
   "metadata": {},
   "outputs": [],
   "source": [
    "# defaults\n",
    "pages = loader.load_and_split()\n",
    "store = DocArrayInMemorySearch.from_documents(pages, embedding=embeddings)\n",
    "retriever = store.as_retriever(search_kwargs={\"k\": 1}) # number of chunks to return"
   ]
  },
  {
   "cell_type": "code",
   "execution_count": 76,
   "id": "beb41491",
   "metadata": {},
   "outputs": [],
   "source": [
    "text_splitter = SemanticChunker(\n",
    "    min_chunk_size=500,\n",
    "    embeddings=embeddings,\n",
    ")"
   ]
  },
  {
   "cell_type": "code",
   "execution_count": 32,
   "id": "b4c5db82",
   "metadata": {},
   "outputs": [],
   "source": [
    "text_splitter = CharacterTextSplitter(\n",
    "    chunk_size=200,\n",
    "    chunk_overlap=20,\n",
    "    length_function=len,\n",
    ")"
   ]
  },
  {
   "cell_type": "code",
   "execution_count": 89,
   "id": "f1f56ae9",
   "metadata": {},
   "outputs": [],
   "source": [
    "text_splitter = CharacterTextSplitter.from_tiktoken_encoder(\n",
    "    encoding_name=\"cl100k_base\", chunk_size=500, chunk_overlap=20\n",
    ")"
   ]
  },
  {
   "cell_type": "code",
   "execution_count": 90,
   "id": "a14da579",
   "metadata": {},
   "outputs": [],
   "source": [
    "pages = loader.load_and_split(text_splitter=text_splitter)\n",
    "store = DocArrayInMemorySearch.from_documents(pages, embedding=embeddings)\n",
    "retriever = store.as_retriever(search_kwargs={\"k\": 1}) # number of chunks to return"
   ]
  },
  {
   "cell_type": "code",
   "execution_count": 91,
   "id": "98bd0856",
   "metadata": {},
   "outputs": [],
   "source": [
    "# 3. Create the prompt template\n",
    "template = \"\"\"\n",
    "Answer the question based on the context provided if possible.\n",
    "Context: {context}\n",
    "Question: {question}\n",
    "\"\"\""
   ]
  },
  {
   "cell_type": "code",
   "execution_count": 92,
   "id": "2bd1bfb4",
   "metadata": {},
   "outputs": [],
   "source": [
    "prompt = PromptTemplate.from_template(template)\n",
    "def format_docs(docs):\n",
    "    return \"\\n\".join(doc.page_content for doc in docs)"
   ]
  },
  {
   "cell_type": "markdown",
   "id": "65d39343",
   "metadata": {},
   "source": [
    "### Chaining the the operations\n",
    "\n",
    "See: https://python.langchain.com/docs/versions/migrating_chains/\n",
    "\n",
    "Chains are a useful abstraction for a pipeline of common operations that most LLM applications need. \n",
    "\n",
    "Here we are:\n",
    "\n",
    "1. invoking the retriever with our query, and it's returning most relevant context (with metadata as well, which we don't use here)\n",
    "2. formatting the retrieved context (keeping just the text)\n",
    "3. mapping the query and context into the prompt template.\n",
    "4. passing the formatted prompt to llm\n",
    "5. formatting the output with `StrOutputParser()`"
   ]
  },
  {
   "cell_type": "code",
   "execution_count": 80,
   "id": "270a2237",
   "metadata": {},
   "outputs": [],
   "source": [
    "res=retriever.invoke(\"idea of fdr control\") "
   ]
  },
  {
   "cell_type": "code",
   "execution_count": 81,
   "id": "481cf17d",
   "metadata": {},
   "outputs": [
    {
     "data": {
      "text/plain": [
       "{'producer': 'Acrobat Distiller 4.05 for Windows',\n",
       " 'creator': 'DVIPSONE (32) 2.1.3 http://www.YandY.com',\n",
       " 'creationdate': 'D:20011203123023',\n",
       " 'title': 'FRANJIMSAOS\\x029-4AOS260',\n",
       " 'author': 'Dr. Mirko Janc (Tech Typeset) 427 1999 Feb 15 15:33:29',\n",
       " 'subject': 'TeX output 2001.11.15:0819',\n",
       " 'source': 'benjamini_yekutieli_fdr.pdf',\n",
       " 'total_pages': 24,\n",
       " 'page': 4,\n",
       " 'page_label': '5'}"
      ]
     },
     "execution_count": 81,
     "metadata": {},
     "output_type": "execute_result"
    }
   ],
   "source": [
    "res[0].metadata"
   ]
  },
  {
   "cell_type": "code",
   "execution_count": 82,
   "id": "763fe2ac",
   "metadata": {},
   "outputs": [
    {
     "data": {
      "text/plain": [
       "'CONTROLLING THE FDR UNDER DEPENDENCY 1169\\nIn Section 2 we discuss in more detail the FDR criterion, the historical\\nbackground of the procedure and available results and review the relevant\\nnotions of positive dependency. This section can be consulted as needed. In\\nSection 3 we outline some important problems where it is natural to assume\\nthat the conditions of Theorem 1.2 hold. In Section 4 we prove the theorem. In the course of the proof we provide an explicit expression for the FDR, from\\nwhich many more new properties can be derived, both for the independent and\\nthe dependent cases. Thus issues such as discrete test statistics, composite\\nnull hypotheses, general step-up procedures and general dependency can be\\naddressed. This is done in Section 5. In particular we prove there the following\\ntheorem. Theorem 1.3. When the Benjamini Hochberg procedure is conducted with\\nq//lparenOSCASB∑ m\\ni=1\\n1\\ni/rparenOSCASBtaking the place of qin (1), it always controls the FDR at level less\\nthan or equal to m0\\nmq. As can be seen from the above summary, the results of this article greatly\\nincrease the range of problems for which a powerful procedure with proven\\nFDR control can be offered. 2.'"
      ]
     },
     "execution_count": 82,
     "metadata": {},
     "output_type": "execute_result"
    }
   ],
   "source": [
    "format_docs(res)"
   ]
  },
  {
   "cell_type": "code",
   "execution_count": 66,
   "id": "e32d3416",
   "metadata": {},
   "outputs": [],
   "source": [
    "#prompt.invoke({\"context\": format_docs(res), \"question\": \"idea of fdr control?\"}).text.splitlines()"
   ]
  },
  {
   "cell_type": "code",
   "execution_count": 83,
   "id": "04a8d3fb",
   "metadata": {},
   "outputs": [
    {
     "data": {
      "text/plain": [
       "[Document(metadata={'producer': 'Acrobat Distiller 4.05 for Windows', 'creator': 'DVIPSONE (32) 2.1.3 http://www.YandY.com', 'creationdate': 'D:20011203123023', 'title': 'FRANJIMSAOS\\x029-4AOS260', 'author': 'Dr. Mirko Janc (Tech Typeset) 427 1999 Feb 15 15:33:29', 'subject': 'TeX output 2001.11.15:0819', 'source': 'benjamini_yekutieli_fdr.pdf', 'total_pages': 24, 'page': 4, 'page_label': '5'}, page_content='CONTROLLING THE FDR UNDER DEPENDENCY 1169\\nIn Section 2 we discuss in more detail the FDR criterion, the historical\\nbackground of the procedure and available results and review the relevant\\nnotions of positive dependency. This section can be consulted as needed. In\\nSection 3 we outline some important problems where it is natural to assume\\nthat the conditions of Theorem 1.2 hold. In Section 4 we prove the theorem. In the course of the proof we provide an explicit expression for the FDR, from\\nwhich many more new properties can be derived, both for the independent and\\nthe dependent cases. Thus issues such as discrete test statistics, composite\\nnull hypotheses, general step-up procedures and general dependency can be\\naddressed. This is done in Section 5. In particular we prove there the following\\ntheorem. Theorem 1.3. When the Benjamini Hochberg procedure is conducted with\\nq//lparenOSCASB∑ m\\ni=1\\n1\\ni/rparenOSCASBtaking the place of qin (1), it always controls the FDR at level less\\nthan or equal to m0\\nmq. As can be seen from the above summary, the results of this article greatly\\nincrease the range of problems for which a powerful procedure with proven\\nFDR control can be offered. 2.')]"
      ]
     },
     "execution_count": 83,
     "metadata": {},
     "output_type": "execute_result"
    }
   ],
   "source": [
    "retriever.invoke(\"What is the FDR?\")"
   ]
  },
  {
   "cell_type": "code",
   "execution_count": 84,
   "id": "2e3dd154",
   "metadata": {},
   "outputs": [
    {
     "data": {
      "text/plain": [
       "StringPromptValue(text='\\nAnswer the question based on the context provided if possible.\\nContext: CONTROLLING THE FDR UNDER DEPENDENCY 1169\\nIn Section 2 we discuss in more detail the FDR criterion, the historical\\nbackground of the procedure and available results and review the relevant\\nnotions of positive dependency. This section can be consulted as needed. In\\nSection 3 we outline some important problems where it is natural to assume\\nthat the conditions of Theorem 1.2 hold. In Section 4 we prove the theorem. In the course of the proof we provide an explicit expression for the FDR, from\\nwhich many more new properties can be derived, both for the independent and\\nthe dependent cases. Thus issues such as discrete test statistics, composite\\nnull hypotheses, general step-up procedures and general dependency can be\\naddressed. This is done in Section 5. In particular we prove there the following\\ntheorem. Theorem 1.3. When the Benjamini Hochberg procedure is conducted with\\nq//lparenOSCASB∑ m\\ni=1\\n1\\ni/rparenOSCASBtaking the place of qin (1), it always controls the FDR at level less\\nthan or equal to m0\\nmq. As can be seen from the above summary, the results of this article greatly\\nincrease the range of problems for which a powerful procedure with proven\\nFDR control can be offered. 2.\\nQuestion: What is the FDR?\\n')"
      ]
     },
     "execution_count": 84,
     "metadata": {},
     "output_type": "execute_result"
    }
   ],
   "source": [
    "(\n",
    "    {\n",
    "        'context': retriever | format_docs,\n",
    "        'question': RunnablePassthrough(),\n",
    "    }\n",
    "    | prompt\n",
    ").invoke(\"What is the FDR?\")"
   ]
  },
  {
   "cell_type": "markdown",
   "id": "82aef270",
   "metadata": {},
   "source": [
    "**Now chaining all the operations into one chai:**"
   ]
  },
  {
   "cell_type": "code",
   "execution_count": null,
   "id": "11f506cb",
   "metadata": {},
   "outputs": [],
   "source": [
    "chain = (\n",
    "    {\n",
    "        'context': retriever | format_docs,\n",
    "        'question': RunnablePassthrough(),\n",
    "    }\n",
    "    | prompt\n",
    "    | llm\n",
    "    | StrOutputParser() # or JsonOutputParser() etc. for formatted output depending on the LLM used and the need\n",
    ")"
   ]
  },
  {
   "cell_type": "markdown",
   "id": "4e5c2efb",
   "metadata": {},
   "source": [
    "**invoking the chain with query/question:**"
   ]
  },
  {
   "cell_type": "code",
   "execution_count": 98,
   "id": "f0c9fa47",
   "metadata": {},
   "outputs": [],
   "source": [
    "response=chain.invoke(\n",
    "    \"implement fdr control in multiple testing\"\n",
    ")"
   ]
  },
  {
   "cell_type": "markdown",
   "id": "bbf9c3a0",
   "metadata": {},
   "source": [
    "**and viewing the output:**"
   ]
  },
  {
   "cell_type": "code",
   "execution_count": 99,
   "id": "8279d68f",
   "metadata": {},
   "outputs": [
    {
     "data": {
      "text/plain": [
       "['Based on the context provided, to implement FDR control in multiple testing, you would need to follow these general steps:',\n",
       " '',\n",
       " '1. **Determine the number of independent tests**: Identify the total number of hypotheses being tested (R).',\n",
       " '',\n",
       " '2. **Compute the test statistic**: For each test, calculate a test statistic that determines whether a hypothesis is rejected.',\n",
       " '',\n",
       " '3. **Calculate the proportion of true null hypotheses rejected**: Calculate V/R, where V is the number of true null hypotheses rejected and R is the total number of hypotheses rejected.',\n",
       " '',\n",
       " '4. **Calculate the FDR value**: Calculate the FDR (False Discovery Rate) as E[Q], where Q = V/R if R > 0, or 0 otherwise.',\n",
       " '',\n",
       " '5. **Choose a significance level q**: Choose an FDR level q that you want to control, typically at a conventional level for α (e.g., 0.05).',\n",
       " '',\n",
       " '6. **Implement the step-up procedure**: Implement the step-up procedure, which rejects all hypotheses with a p-value less than or equal to the critical value determined by the FDR level q.',\n",
       " '',\n",
       " '7. **Repeat as necessary**: Repeat steps 2-6 for each family of tests, if multiple families are being tested simultaneously.',\n",
       " '',\n",
       " 'Note that the specific implementation details may vary depending on the type of test statistics used (e.g., discrete test statistics), composite null hypotheses, general step-up procedures, or other factors discussed in Section 5.']"
      ]
     },
     "execution_count": 99,
     "metadata": {},
     "output_type": "execute_result"
    }
   ],
   "source": [
    "response.splitlines()"
   ]
  },
  {
   "cell_type": "code",
   "execution_count": null,
   "id": "c7aa4f57",
   "metadata": {},
   "outputs": [],
   "source": []
  }
 ],
 "metadata": {
  "kernelspec": {
   "display_name": ".venv",
   "language": "python",
   "name": "python3"
  },
  "language_info": {
   "codemirror_mode": {
    "name": "ipython",
    "version": 3
   },
   "file_extension": ".py",
   "mimetype": "text/x-python",
   "name": "python",
   "nbconvert_exporter": "python",
   "pygments_lexer": "ipython3",
   "version": "3.13.1"
  }
 },
 "nbformat": 4,
 "nbformat_minor": 5
}

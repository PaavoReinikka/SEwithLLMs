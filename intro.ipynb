{
 "cells": [
  {
   "cell_type": "code",
   "execution_count": 1,
   "metadata": {},
   "outputs": [],
   "source": [
    "import dotenv\n",
    "import os\n",
    "from openai import OpenAI\n",
    "from openai import OpenAIError"
   ]
  },
  {
   "cell_type": "markdown",
   "metadata": {},
   "source": [
    "### Get you HuggingFace access token (no need to install anything, but limited api calls)\n",
    "\n",
    "Go to: https://huggingface.co/docs/hub/en/oauth and sign in.\n",
    "\n",
    "On the upper right corner of the page press your user icon, and choose `Access tokens`, and press `Create new token`. Create a new token with write permissions, and copy it to clipboard.\n",
    "\n",
    "Save the copied token into a variable:\n",
    "\n",
    "`HUGGINGFACE_ACCESS_TOKEN=<your-token>`\n",
    "\n",
    "**NOTE: do not share or expose this token via git etc.**\n",
    "\n",
    "You should also set:\n",
    "\n",
    "`OPENAI_API_KEY=anything-since-this-does-not-matter`"
   ]
  },
  {
   "cell_type": "code",
   "execution_count": 2,
   "metadata": {},
   "outputs": [],
   "source": [
    "dotenv.load_dotenv()\n",
    "hf_api_key = os.getenv(\"HUGGINGFACE_ACCESS_TOKEN\")\n",
    "ollama_api_key = os.getenv(\"OPENAI_API_KEY\") # this is for compatibility with OpenAI API\n",
    "\n",
    "\n",
    "if not hf_api_key:\n",
    "    raise ValueError(\"HUGGINGFACE_ACCESS_TOKEN environment variable not set\")\n",
    "\n",
    "if not ollama_api_key:\n",
    "    raise ValueError(\"OPENAI_API_KEY environment variable not set\")"
   ]
  },
  {
   "cell_type": "markdown",
   "metadata": {},
   "source": [
    "### (optional) Install Ollama -- unlimited use.\n",
    "\n",
    "Install ollama: https://ollama.com/download\n",
    "\n",
    "Pull a model:\n",
    "\n",
    "`ollama pull llama3.2`\n",
    "\n",
    "Check that ollama is serving:\n",
    "\n",
    "`curl localhost:11434`\n",
    "\n",
    "### (optional) Run ollama from docker (docker does most things for you, but some additional commands needed to set up)\n",
    "\n",
    "Depending on how docker is configured on your machine, you may need to add `sudo` on all docker commands. Alternatively you can follow the instructions in docker docs to create a docker user group and add yourself to it.\n",
    "\n",
    "`docker run -d -v ollama:/root/.ollama -p 11435:11434 --name ollama ollama/ollama`\n",
    "\n",
    "* you can enter the container with: `docker exec -it ollama bash`\n",
    "* and run the following command to pull a model (takes a while): `ollama pull <model_name>` (llama3.2 for now)\n",
    "* run `ollama serve` to start the server (might not be needed if it's already running).\n",
    "* exit the container with: `exit`\n",
    "* on local machine, you can access the server on port 11435: e.g., `curl http://localhost:11435` --> \"ollama is running\"\n",
    "* to stop the container, run: `docker stop ollama`\n",
    "* to remove the container, run: `docker rm ollama`"
   ]
  },
  {
   "cell_type": "code",
   "execution_count": null,
   "metadata": {},
   "outputs": [],
   "source": []
  },
  {
   "cell_type": "markdown",
   "metadata": {},
   "source": [
    "#### Choose HF model\n",
    "\n",
    "see models: https://huggingface.co/models"
   ]
  },
  {
   "cell_type": "code",
   "execution_count": 3,
   "metadata": {},
   "outputs": [],
   "source": [
    "#some alternatives\n",
    "models = [\n",
    "    \"mistralai/Mistral-7B-Instruct-v0.3\",\n",
    "    \"microsoft/Phi-3-mini-4k-instruct\",\n",
    "    \"llama3.2\" # for ollama \n",
    "]"
   ]
  },
  {
   "cell_type": "markdown",
   "metadata": {},
   "source": [
    "#### We are using OpeanAI api here\n",
    "\n",
    "OpenAI no longer grants any free usage. But many other providers, like Ollama and HF, offer endpoints that comply with OpenAI's api. This is for compatibility, and because OpenAI is one of the most used commercial providers -- this way it is possible to develop LLM applications using free/cheaper endpoints, and then eventually deploy with openai."
   ]
  },
  {
   "cell_type": "code",
   "execution_count": 4,
   "metadata": {},
   "outputs": [],
   "source": [
    "# 2. Create the LLM client using OpenAI API and huggingface\n",
    "client = OpenAI(\n",
    "    api_key=hf_api_key,\n",
    "    base_url=\"https://api-inference.huggingface.co/v1/\",\n",
    ")"
   ]
  },
  {
   "cell_type": "code",
   "execution_count": 5,
   "metadata": {},
   "outputs": [],
   "source": [
    "# 2. Create the LLM client using OpenAI API and ollama\n",
    "client = OpenAI(\n",
    "    api_key=ollama_api_key,\n",
    "    base_url=\"http://localhost:11434/v1/\", # if you are using ollama locally\n",
    "    #base_url=\"http://localhost:11435/v1/\", # if you are using ollama from docker\n",
    ")"
   ]
  },
  {
   "cell_type": "code",
   "execution_count": 6,
   "metadata": {},
   "outputs": [],
   "source": [
    "response = client.chat.completions.create(\n",
    "  model=models[2],\n",
    "  messages=[\n",
    "    {\"role\": \"user\", \"content\": \"Hello!\"},\n",
    "  ]\n",
    ")\n"
   ]
  },
  {
   "cell_type": "code",
   "execution_count": 7,
   "metadata": {},
   "outputs": [
    {
     "data": {
      "text/plain": [
       "{'id': 'chatcmpl-500',\n",
       " 'choices': [Choice(finish_reason='stop', index=0, logprobs=None, message=ChatCompletionMessage(content=\"It's nice to meet you. Is there something I can help you with or would you like to chat?\", refusal=None, role='assistant', annotations=None, audio=None, function_call=None, tool_calls=None))],\n",
       " 'created': 1745764537,\n",
       " 'model': 'llama3.2',\n",
       " 'object': 'chat.completion',\n",
       " 'service_tier': None,\n",
       " 'system_fingerprint': 'fp_ollama',\n",
       " 'usage': CompletionUsage(completion_tokens=23, prompt_tokens=27, total_tokens=50, completion_tokens_details=None, prompt_tokens_details=None)}"
      ]
     },
     "execution_count": 7,
     "metadata": {},
     "output_type": "execute_result"
    }
   ],
   "source": [
    "dict(response)"
   ]
  },
  {
   "cell_type": "code",
   "execution_count": 8,
   "metadata": {},
   "outputs": [
    {
     "data": {
      "text/plain": [
       "{'finish_reason': 'stop',\n",
       " 'index': 0,\n",
       " 'logprobs': None,\n",
       " 'message': ChatCompletionMessage(content=\"It's nice to meet you. Is there something I can help you with or would you like to chat?\", refusal=None, role='assistant', annotations=None, audio=None, function_call=None, tool_calls=None)}"
      ]
     },
     "execution_count": 8,
     "metadata": {},
     "output_type": "execute_result"
    }
   ],
   "source": [
    "dict(response.choices[0])"
   ]
  },
  {
   "cell_type": "code",
   "execution_count": 9,
   "metadata": {},
   "outputs": [
    {
     "data": {
      "text/plain": [
       "{'content': \"It's nice to meet you. Is there something I can help you with or would you like to chat?\",\n",
       " 'refusal': None,\n",
       " 'role': 'assistant',\n",
       " 'annotations': None,\n",
       " 'audio': None,\n",
       " 'function_call': None,\n",
       " 'tool_calls': None}"
      ]
     },
     "execution_count": 9,
     "metadata": {},
     "output_type": "execute_result"
    }
   ],
   "source": [
    "dict(response.choices[0].message)"
   ]
  },
  {
   "cell_type": "code",
   "execution_count": 10,
   "metadata": {},
   "outputs": [
    {
     "data": {
      "text/plain": [
       "\"It's nice to meet you. Is there something I can help you with or would you like to chat?\""
      ]
     },
     "execution_count": 10,
     "metadata": {},
     "output_type": "execute_result"
    }
   ],
   "source": [
    "response.choices[0].message.content"
   ]
  },
  {
   "cell_type": "code",
   "execution_count": 17,
   "metadata": {},
   "outputs": [
    {
     "name": "stdout",
     "output_type": "stream",
     "text": [
      "Open-source software (OSS) is an increasingly popular topic, and for good reason! Here are some reasons why OSS is important:\n",
      "\n",
      "1. **Cost-effectiveness**: Open-source software is often free or low-cost to use, making it accessible to individuals, organizations, and governments with limited budgets.\n",
      "2. **Customizability**: With open-source software, users have the freedom to modify and adapt the code to suit their needs, ensuring that the solution meets their specific requirements.\n",
      "3. **Collaboration**: Open-source projects encourage collaboration among developers, which leads to better maintenance, bug fixing, and feature enhancement over time.\n",
      "4. **Transparency**: Open-source software licenses provide visibility into how the project is maintained, updated, and distributed, giving users confidence in the software's quality.\n",
      "5. **Community-driven development**: OSS relies on volunteer contributors who contribute to its development, which fosters a sense of community and encourages innovation through peer review and feedback.\n",
      "6. **Promotes digital literacy**: By providing free or low-cost alternatives to proprietary software, OSS promotes digital literacy and skills, enabling more people to participate in the technology ecosystem.\n",
      "7. **Fosters competition**: The open-source market creates healthy competition among software vendors, driving innovation and pushing the industry forward.\n",
      "8. **Saves resources**: Open-source software eliminates the need to invest in licensing fees or proprietary software maintenance costs, saving organizations money and time.\n",
      "9. **Enables data sharing**: OSS facilitates knowledge sharing by providing freely accessible datasets, tools, and expertise for scientific research, education, and other applications.\n",
      "10. **Promotes social good**: By making technology more accessible, affordable, and collaborative, OSS can help address pressing global challenges like climate change, healthcare, education, and poverty.\n",
      "\n",
      "Some iconic examples of successful open-source software include:\n",
      "\n",
      "* Linux (operating system)\n",
      "* Apache HTTP Server (web server)\n",
      "* Firefox (browsers)\n",
      "* OpenOffice (productivity suite)\n",
      "* Scikit-learn (machine learning)\n",
      "\n",
      "These projects demonstrate the power of collaboration, transparency, and community-driven development in creating world-changing technology.\n",
      "\n",
      "What's your experience with open-source software? Do you have a favorite OSS project or use case?"
     ]
    }
   ],
   "source": [
    "chat_completion = client.chat.completions.create(\n",
    "    model=models[2],\n",
    "    messages=[\n",
    "        {\"role\": \"system\", \"content\": \"You are a helpful assistant.\"},\n",
    "        {\"role\": \"user\", \"content\": \"Why is open-source software important?\"},\n",
    "    ],\n",
    "    stream=True,\n",
    "    max_tokens=500\n",
    ")\n",
    "\n",
    "# iterate and print stream\n",
    "for message in chat_completion:\n",
    "    print(message.choices[0].delta.content, end=\"\")"
   ]
  },
  {
   "cell_type": "code",
   "execution_count": null,
   "metadata": {},
   "outputs": [],
   "source": []
  }
 ],
 "metadata": {
  "kernelspec": {
   "display_name": ".venv",
   "language": "python",
   "name": "python3"
  },
  "language_info": {
   "codemirror_mode": {
    "name": "ipython",
    "version": 3
   },
   "file_extension": ".py",
   "mimetype": "text/x-python",
   "name": "python",
   "nbconvert_exporter": "python",
   "pygments_lexer": "ipython3",
   "version": "3.13.1"
  }
 },
 "nbformat": 4,
 "nbformat_minor": 2
}
